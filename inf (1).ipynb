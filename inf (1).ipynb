{
 "cells": [
  {
   "cell_type": "code",
   "execution_count": 12,
   "metadata": {},
   "outputs": [
    {
     "name": "stdout",
     "output_type": "stream",
     "text": [
      "/teamspace/studios/this_studio\n",
      "fatal: destination path 'LatentSync' already exists and is not an empty directory.\n",
      "\n",
      "\n",
      "\u001b[38;5;57m\u001b[1m⚡️ Tip\u001b[0m\tConnect GitHub to Studios: \u001b[4mhttps://lightning.ai/nourankhaled3001/home?settings=integrations\u001b[0m\n",
      "\n"
     ]
    }
   ],
   "source": [
    "# Navigate to the working directory\n",
    "%cd /teamspace/studios/this_studio\n",
    "\n",
    "# Clone the LatentSync repository\n",
    "!git clone https://github.com/bytedance/LatentSync.git"
   ]
  },
  {
   "cell_type": "code",
   "execution_count": 13,
   "metadata": {},
   "outputs": [
    {
     "name": "stdout",
     "output_type": "stream",
     "text": [
      "/teamspace/studios/this_studio/LatentSync\n"
     ]
    }
   ],
   "source": [
    "%cd /teamspace/studios/this_studio/LatentSync\n"
   ]
  },
  {
   "cell_type": "code",
   "execution_count": null,
   "metadata": {},
   "outputs": [],
   "source": [
    "!pip install gdown\n"
   ]
  },
  {
   "cell_type": "code",
   "execution_count": null,
   "metadata": {},
   "outputs": [],
   "source": [
    "!gdown \"https://drive.google.com/uc?id=1qE7DEq1VfuWbASnVHtus2p6N5pdwuhUx\"\n"
   ]
  },
  {
   "cell_type": "code",
   "execution_count": 14,
   "metadata": {},
   "outputs": [
    {
     "name": "stdout",
     "output_type": "stream",
     "text": [
      "/home/zeus/miniconda3/envs/cloudspace/lib/python3.10/site-packages/albumentations/__init__.py:28: UserWarning: A new version of Albumentations is available: '2.0.8' (you have '2.0.6'). Upgrade using: pip install -U albumentations. To disable automatic update checks, set the environment variable NO_ALBUMENTATIONS_UPDATE to 1.\n",
      "  check_for_updates()\n",
      "Input video path: /teamspace/studios/this_studio/LatentSync/cartony4.mp4\n",
      "Input audio path: /teamspace/studios/this_studio/download (2).wav\n",
      "Loaded checkpoint path: checkpoints/latentsync_unet.pt\n",
      "Traceback (most recent call last):\n",
      "  File \"/home/zeus/miniconda3/envs/cloudspace/lib/python3.10/runpy.py\", line 196, in _run_module_as_main\n",
      "    return _run_code(code, main_globals, None,\n",
      "  File \"/home/zeus/miniconda3/envs/cloudspace/lib/python3.10/runpy.py\", line 86, in _run_code\n",
      "    exec(code, run_globals)\n",
      "  File \"/teamspace/studios/this_studio/LatentSync/scripts/inference.py\", line 111, in <module>\n",
      "    main(config, args)\n",
      "  File \"/teamspace/studios/this_studio/LatentSync/scripts/inference.py\", line 49, in main\n",
      "    audio_encoder = Audio2Feature(\n",
      "  File \"/teamspace/studios/this_studio/LatentSync/latentsync/whisper/audio2feature.py\", line 18, in __init__\n",
      "    self.model = load_model(model_path, device)\n",
      "  File \"/teamspace/studios/this_studio/LatentSync/latentsync/whisper/whisper/__init__.py\", line 112, in load_model\n",
      "    checkpoint = torch.load(fp, map_location=device, weights_only=True)\n",
      "  File \"/home/zeus/miniconda3/envs/cloudspace/lib/python3.10/site-packages/torch/serialization.py\", line 1351, in load\n",
      "    return _load(\n",
      "  File \"/home/zeus/miniconda3/envs/cloudspace/lib/python3.10/site-packages/torch/serialization.py\", line 1848, in _load\n",
      "    result = unpickler.load()\n",
      "  File \"/home/zeus/miniconda3/envs/cloudspace/lib/python3.10/site-packages/torch/_weights_only_unpickler.py\", line 385, in load\n",
      "    self.append(self.persistent_load(pid))\n",
      "  File \"/home/zeus/miniconda3/envs/cloudspace/lib/python3.10/site-packages/torch/serialization.py\", line 1812, in persistent_load\n",
      "    typed_storage = load_tensor(\n",
      "  File \"/home/zeus/miniconda3/envs/cloudspace/lib/python3.10/site-packages/torch/serialization.py\", line 1784, in load_tensor\n",
      "    wrap_storage=restore_location(storage, location),\n",
      "  File \"/home/zeus/miniconda3/envs/cloudspace/lib/python3.10/site-packages/torch/serialization.py\", line 1685, in restore_location\n",
      "    return default_restore_location(storage, map_location)\n",
      "  File \"/home/zeus/miniconda3/envs/cloudspace/lib/python3.10/site-packages/torch/serialization.py\", line 601, in default_restore_location\n",
      "    result = fn(storage, location)\n",
      "  File \"/home/zeus/miniconda3/envs/cloudspace/lib/python3.10/site-packages/torch/serialization.py\", line 539, in _deserialize\n",
      "    device = _validate_device(location, backend_name)\n",
      "  File \"/home/zeus/miniconda3/envs/cloudspace/lib/python3.10/site-packages/torch/serialization.py\", line 508, in _validate_device\n",
      "    raise RuntimeError(\n",
      "RuntimeError: Attempting to deserialize object on a CUDA device but torch.cuda.is_available() is False. If you are running on a CPU-only machine, please use torch.load with map_location=torch.device('cpu') to map your storages to the CPU.\n"
     ]
    }
   ],
   "source": [
    "!python -m scripts.inference \\\n",
    "    --unet_config_path \"configs/unet/stage2.yaml\" \\\n",
    "    --inference_ckpt_path \"checkpoints/latentsync_unet.pt\" \\\n",
    "    --inference_steps 20 \\\n",
    "    --guidance_scale 2.0 \\\n",
    "    --video_path \"/teamspace/studios/this_studio/LatentSync/cartony4.mp4\" \\\n",
    "    --audio_path \"/teamspace/studios/this_studio/download (2).wav\" \\\n",
    "    --video_out_path \"video_out.mp4\"\n"
   ]
  },
  {
   "cell_type": "code",
   "execution_count": null,
   "metadata": {},
   "outputs": [],
   "source": []
  }
 ],
 "metadata": {
  "language_info": {
   "name": "python"
  }
 },
 "nbformat": 4,
 "nbformat_minor": 2
}
